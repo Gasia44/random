{
 "cells": [
  {
   "cell_type": "markdown",
   "metadata": {},
   "source": [
    "# Setup"
   ]
  },
  {
   "cell_type": "code",
   "execution_count": null,
   "metadata": {},
   "outputs": [],
   "source": [
    "import numpy as np\n",
    "import pandas as pd\n",
    "import scipy.stats as st"
   ]
  },
  {
   "cell_type": "code",
   "execution_count": null,
   "metadata": {},
   "outputs": [],
   "source": [
    "import random\n",
    "import decimal"
   ]
  },
  {
   "cell_type": "code",
   "execution_count": null,
   "metadata": {},
   "outputs": [],
   "source": [
    "import plotly.plotly as py\n",
    "import plotly.graph_objs as go\n",
    "import plotly"
   ]
  },
  {
   "cell_type": "code",
   "execution_count": null,
   "metadata": {},
   "outputs": [],
   "source": [
    "plotly.tools.set_credentials_file(username='gasia44', api_key='WquddqqfPKg5KJfPJFuk')"
   ]
  },
  {
   "cell_type": "markdown",
   "metadata": {},
   "source": [
    "# Statistic test"
   ]
  },
  {
   "cell_type": "code",
   "execution_count": null,
   "metadata": {},
   "outputs": [],
   "source": [
    "def stats_sig_unpooled(p_1, p_2, n_1, n_2):\n",
    "    ste = np.sqrt((p_1*(1 - p_1)/n_1 + p_2 * (1- p_2)/n_2))\n",
    "    return((np.abs(p_1-p_2))/ste)"
   ]
  },
  {
   "cell_type": "code",
   "execution_count": null,
   "metadata": {},
   "outputs": [],
   "source": [
    "def stats_sig_pooled(p_1, p_2, n_1, n_2):\n",
    "    p = (n_1 * p_1 + n_2 * p_2)/ (n_1 + n_2)\n",
    "    ste = np.sqrt((p*(1-p))*(1/n_1 + 1/n_2))\n",
    "    return((np.abs(p_1-p_2))/ste)"
   ]
  },
  {
   "cell_type": "markdown",
   "metadata": {},
   "source": [
    "# Confidence Interval"
   ]
  },
  {
   "cell_type": "code",
   "execution_count": null,
   "metadata": {},
   "outputs": [],
   "source": [
    "def confidence_interval_pooled(p_1, p_2, n_1, n_2, alpha):\n",
    "    delta = np.abs(p_1 - p_2)\n",
    "    p = (n_1 * p_1 + n_2 * p_2)/ (n_1 + n_2)\n",
    "    ste = np.sqrt((p*(1-p))*(1/n_1 + 1/n_2))\n",
    "    return  delta + st.norm.ppf(alpha) * (ste), delta + st.norm.ppf(1-alpha) * (ste)"
   ]
  },
  {
   "cell_type": "code",
   "execution_count": null,
   "metadata": {},
   "outputs": [],
   "source": [
    "def confidence_interval_unpooled(p_1, p_2, n_1, n_2, alpha):\n",
    "    delta = np.abs(p_1 - p_2)\n",
    "    ste = np.sqrt((p_1*(1 - p_1)/n_1 + p_2 * (1- p_2)/n_2))\n",
    "    return  delta + st.norm.ppf(alpha) * (ste), delta + st.norm.ppf(1-alpha) * (ste)"
   ]
  },
  {
   "cell_type": "markdown",
   "metadata": {},
   "source": [
    "# Experiments"
   ]
  },
  {
   "cell_type": "markdown",
   "metadata": {},
   "source": [
    "## Data"
   ]
  },
  {
   "cell_type": "code",
   "execution_count": null,
   "metadata": {},
   "outputs": [],
   "source": [
    "alpha = 0.05\n",
    "n_experiments = 100\n",
    "n_1 = random.sample(range(40, 1000), n_experiments)\n",
    "n_2 = random.sample(range(40, 1000), n_experiments)"
   ]
  },
  {
   "cell_type": "code",
   "execution_count": null,
   "metadata": {},
   "outputs": [],
   "source": [
    "max_range_1 = (np.array(n_1) - 20)\n",
    "max_range_2 = (np.array(n_2) - 20)"
   ]
  },
  {
   "cell_type": "code",
   "execution_count": null,
   "metadata": {},
   "outputs": [],
   "source": [
    "p_1 = [round(random.randint(20,max_range_1[i])/n_1[i], 3) for i in range(len(n_1))]\n",
    "p_2 = [round(random.randint(20,max_range_2[i])/n_2[i], 3) for i in range(len(n_2))]"
   ]
  },
  {
   "cell_type": "code",
   "execution_count": null,
   "metadata": {},
   "outputs": [],
   "source": [
    "df = pd.DataFrame({'n_1': n_1, 'p_1': p_1, 'n_2': n_2, 'p_2' : p_2})"
   ]
  },
  {
   "cell_type": "code",
   "execution_count": null,
   "metadata": {},
   "outputs": [],
   "source": [
    "df.head()"
   ]
  },
  {
   "cell_type": "code",
   "execution_count": null,
   "metadata": {},
   "outputs": [],
   "source": [
    "df['std_1'] = round(np.sqrt(df['p_1']*(1-df['p_1']) * df['n_1']), 3)\n",
    "df['std_2'] = round(np.sqrt(df['p_2']*(1-df['p_2']) * df['n_2']), 3)"
   ]
  },
  {
   "cell_type": "code",
   "execution_count": null,
   "metadata": {},
   "outputs": [],
   "source": [
    "df.head()"
   ]
  },
  {
   "cell_type": "markdown",
   "metadata": {},
   "source": [
    " RULE OF THUMB: If the larger sample standard deviation is MORE THAN twice the smaller sample standard deviation then perform the analysis using unpooled methods."
   ]
  },
  {
   "cell_type": "code",
   "execution_count": null,
   "metadata": {},
   "outputs": [],
   "source": [
    "df['std_twice_bigger'] = df[['std_1', 'std_2']].max(axis=1) > 2* df[['std_1', 'std_2']].min(axis=1) "
   ]
  },
  {
   "cell_type": "code",
   "execution_count": null,
   "metadata": {},
   "outputs": [],
   "source": [
    "np.sum(df['std_twice_bigger'])"
   ]
  },
  {
   "cell_type": "code",
   "execution_count": null,
   "metadata": {},
   "outputs": [],
   "source": [
    "temp = list(np.linspace(1, 3, 21))\n",
    "std_twice_bigger_exp = [np.sum(df[['std_1', 'std_2']].max(axis=1) > x* df[['std_1', 'std_2']].min(axis=1)) for x in temp]\n"
   ]
  },
  {
   "cell_type": "code",
   "execution_count": null,
   "metadata": {},
   "outputs": [],
   "source": [
    "data = [\n",
    "    go.Scatter(\n",
    "        x = temp,\n",
    "        y =std_twice_bigger_exp)]\n",
    "\n",
    "layout = go.Layout(\n",
    "    title='max std > min std',\n",
    "    xaxis=dict(\n",
    "        title='#times bigger',\n",
    "        titlefont=dict(\n",
    "            family='Courier New, monospace',\n",
    "            size=18,\n",
    "            color='#7f7f7f'\n",
    "        )\n",
    "    ),\n",
    "    yaxis=dict(\n",
    "        title='#data',\n",
    "        titlefont=dict(\n",
    "            family='Courier New, monospace',\n",
    "            size=18,\n",
    "            color='#7f7f7f'\n",
    "        )\n",
    "    )\n",
    ")\n",
    "fig = go.Figure(data=data, layout=layout)\n",
    "\n",
    "\n",
    "py.iplot(fig, filename = 'gasia')"
   ]
  },
  {
   "cell_type": "code",
   "execution_count": null,
   "metadata": {},
   "outputs": [],
   "source": [
    "df.head()"
   ]
  },
  {
   "cell_type": "markdown",
   "metadata": {},
   "source": [
    "-----------"
   ]
  },
  {
   "cell_type": "markdown",
   "metadata": {},
   "source": [
    "## Calculations"
   ]
  },
  {
   "cell_type": "code",
   "execution_count": null,
   "metadata": {},
   "outputs": [],
   "source": [
    "df['test_stat_pooled'] = 0.0\n",
    "df['test_stat_unpooled'] = 0.0\n",
    "\n",
    "df['confid_interval_pooled_min'] = 0.0\n",
    "df['confid_interval_pooled_max'] = 0.0\n",
    "df['confid_interval_unpooled_min'] = 0.0\n",
    "df['confid_interval_unpooled_max'] = 0.0"
   ]
  },
  {
   "cell_type": "code",
   "execution_count": null,
   "metadata": {},
   "outputs": [],
   "source": [
    "for i in range(len(df)):\n",
    "    d = df.iloc[i]\n",
    "    df.loc[i,'test_stat_pooled'] =   stats_sig_pooled(p_1= d['p_1'], p_2= d['p_2'], n_1= d['n_1'], n_2 =d['n_2'])\n",
    "    df.loc[i,'test_stat_unpooled'] = stats_sig_unpooled(p_1= d['p_1'], p_2= d['p_2'], n_1= d['n_1'], n_2 =d['n_2'])\n",
    "    \n",
    "    conf_res = confidence_interval_pooled(p_1= d['p_1'], p_2= d['p_2'], n_1= d['n_1'], n_2 =d['n_2'], alpha = alpha)\n",
    "    df.loc[i,'confid_interval_pooled_min'], df.loc[i,'confid_interval_pooled_max']   =  conf_res[0], conf_res[1]\n",
    "    \n",
    "    conf_res = confidence_interval_unpooled(p_1= d['p_1'], p_2= d['p_2'], n_1= d['n_1'], n_2 =d['n_2'], alpha = alpha)\n",
    "    df.loc[i,'confid_interval_unpooled_min'], df.loc[i,'confid_interval_unpooled_max'] =  conf_res[0], conf_res[1]"
   ]
  },
  {
   "cell_type": "code",
   "execution_count": null,
   "metadata": {},
   "outputs": [],
   "source": [
    "df = df.sort_values(['n_1', 'n_2'])"
   ]
  },
  {
   "cell_type": "code",
   "execution_count": null,
   "metadata": {},
   "outputs": [],
   "source": [
    "df.reset_index(inplace = True, drop=True)"
   ]
  },
  {
   "cell_type": "code",
   "execution_count": null,
   "metadata": {},
   "outputs": [],
   "source": [
    "df.head()"
   ]
  },
  {
   "cell_type": "markdown",
   "metadata": {},
   "source": [
    "## Insights"
   ]
  },
  {
   "cell_type": "markdown",
   "metadata": {},
   "source": [
    "### Test Statistisc"
   ]
  },
  {
   "cell_type": "code",
   "execution_count": null,
   "metadata": {},
   "outputs": [],
   "source": [
    "data = [\n",
    "    go.Scatter(\n",
    "        x = df.index ,\n",
    "        y = df['test_stat_pooled'].values,\n",
    "        mode = 'lines',\n",
    "        name = 'pooled'), \n",
    "    \n",
    "    go.Scatter(\n",
    "        x = df.index ,\n",
    "        y = df['test_stat_unpooled'].values,\n",
    "        mode = 'lines',\n",
    "        name = 'unpooled'), \n",
    "    \n",
    "        \n",
    "    go.Scatter(\n",
    "        x = (df[df['std_twice_bigger']]).index ,\n",
    "        y = df[df['std_twice_bigger']]['test_stat_unpooled'].values,\n",
    "        mode = 'markers',\n",
    "        name = 'std_twice_bigger'),\n",
    "\n",
    "    ]\n",
    "\n",
    "layout = go.Layout(\n",
    "    title='Test Statistic',\n",
    "    xaxis=dict(\n",
    "        title='index',\n",
    "        titlefont=dict(\n",
    "            family='Courier New, monospace',\n",
    "            size=18,\n",
    "            color='#7f7f7f'\n",
    "        )\n",
    "    ),\n",
    "    yaxis=dict(\n",
    "        title='test statistic',\n",
    "        titlefont=dict(\n",
    "            family='Courier New, monospace',\n",
    "            size=18,\n",
    "            color='#7f7f7f'\n",
    "        )\n",
    "    )\n",
    ")\n",
    "fig = go.Figure(data=data, layout=layout)\n",
    "\n",
    "py.iplot(fig, filename = 'gasia')"
   ]
  },
  {
   "cell_type": "code",
   "execution_count": null,
   "metadata": {},
   "outputs": [],
   "source": [
    "df['diff'] = df['test_stat_unpooled'] - df['test_stat_pooled']"
   ]
  },
  {
   "cell_type": "code",
   "execution_count": null,
   "metadata": {},
   "outputs": [],
   "source": [
    "data = [\n",
    "    go.Scatter(\n",
    "        x = df.index ,\n",
    "        y = df['diff'].values,\n",
    "        mode = 'lines',\n",
    "        name = 'difference'), \n",
    "    \n",
    "        \n",
    "    go.Scatter(\n",
    "        x = (df[df['std_twice_bigger']]).index ,\n",
    "        y = df[df['std_twice_bigger']]['diff'].values,\n",
    "        mode = 'markers',\n",
    "        name = 'std_twice_bigger'),\n",
    "\n",
    "    ]\n",
    "\n",
    "layout = go.Layout(\n",
    "    title='Test Statistic difference',\n",
    "    xaxis=dict(\n",
    "        title='index',\n",
    "        titlefont=dict(\n",
    "            family='Courier New, monospace',\n",
    "            size=18,\n",
    "            color='#7f7f7f'\n",
    "        )\n",
    "    ),\n",
    "    yaxis=dict(\n",
    "        title='unpooled - pooled',\n",
    "        titlefont=dict(\n",
    "            family='Courier New, monospace',\n",
    "            size=18,\n",
    "            color='#7f7f7f'\n",
    "        )\n",
    "    )\n",
    ")\n",
    "fig = go.Figure(data=data, layout=layout)\n",
    "\n",
    "py.iplot(fig, filename = 'gasia')"
   ]
  },
  {
   "cell_type": "markdown",
   "metadata": {},
   "source": [
    "### Confidence Interval"
   ]
  },
  {
   "cell_type": "code",
   "execution_count": null,
   "metadata": {},
   "outputs": [],
   "source": [
    "data = [\n",
    "    go.Scatter(\n",
    "        x = df.index ,\n",
    "        y = df['confid_interval_pooled_min'].values,\n",
    "        mode = 'lines',\n",
    "        name = 'pooled_min'), \n",
    "    \n",
    "    go.Scatter(\n",
    "        x = df.index ,\n",
    "        y = df['confid_interval_pooled_max'].values,\n",
    "        mode = 'lines',\n",
    "        name = 'pooled_max'),\n",
    "    \n",
    "    go.Scatter(\n",
    "        x = df.index ,\n",
    "        y = df['confid_interval_unpooled_min'].values,\n",
    "        mode = 'lines',\n",
    "        name = 'unpooled_min'), \n",
    "    \n",
    "    go.Scatter(\n",
    "        x = df.index ,\n",
    "        y = df['confid_interval_unpooled_max'].values,\n",
    "        mode = 'lines',\n",
    "        name = 'unpooled_max'), \n",
    "    \n",
    "    go.Scatter(\n",
    "        x = (df[df['std_twice_bigger']]).index ,\n",
    "        y = df[df['std_twice_bigger']]['confid_interval_unpooled_max'].values,\n",
    "        mode = 'markers',\n",
    "        name = 'std_twice_bigger'),\n",
    "    \n",
    "    go.Scatter(\n",
    "        x = (df[df['std_twice_bigger']]).index ,\n",
    "        y = df[df['std_twice_bigger']]['confid_interval_unpooled_min'].values,\n",
    "        mode = 'markers',\n",
    "        name = 'std_twice_bigger'),\n",
    "    ]\n",
    "\n",
    "layout = go.Layout(\n",
    "    title='Confidence Interval',\n",
    "    xaxis=dict(\n",
    "        title='index',\n",
    "        titlefont=dict(\n",
    "            family='Courier New, monospace',\n",
    "            size=18,\n",
    "            color='#7f7f7f'\n",
    "        )\n",
    "    ),\n",
    "    yaxis=dict(\n",
    "        title='confidence interval',\n",
    "        titlefont=dict(\n",
    "            family='Courier New, monospace',\n",
    "            size=18,\n",
    "            color='#7f7f7f'\n",
    "        )\n",
    "    )\n",
    ")\n",
    "fig = go.Figure(data=data, layout=layout)\n",
    "\n",
    "py.iplot(fig, filename = 'gasia')"
   ]
  },
  {
   "cell_type": "code",
   "execution_count": null,
   "metadata": {},
   "outputs": [],
   "source": [
    "df['conf_diff'] = df['confid_interval_unpooled_max'] - df['confid_interval_pooled_max']"
   ]
  },
  {
   "cell_type": "code",
   "execution_count": null,
   "metadata": {},
   "outputs": [],
   "source": [
    "data = [\n",
    "    \n",
    "    go.Scatter(\n",
    "        x = df.index ,\n",
    "        y = df['conf_diff'].values,\n",
    "        mode = 'lines',\n",
    "        name = 'unpooled - pooled'), \n",
    "    \n",
    "    go.Scatter(\n",
    "        x = (df[df['std_twice_bigger']]).index ,\n",
    "        y = df[df['std_twice_bigger']]['conf_diff'].values,\n",
    "        mode = 'markers',\n",
    "        name = 'std_twice_bigger'),  \n",
    "    ]\n",
    "\n",
    "layout = go.Layout(\n",
    "    title='Confidence Interval Difference',\n",
    "    xaxis=dict(\n",
    "        title='index',\n",
    "        titlefont=dict(\n",
    "            family='Courier New, monospace',\n",
    "            size=18,\n",
    "            color='#7f7f7f'\n",
    "        )\n",
    "    ),\n",
    "    yaxis=dict(\n",
    "        title='unpooled - pooled',\n",
    "        titlefont=dict(\n",
    "            family='Courier New, monospace',\n",
    "            size=18,\n",
    "            color='#7f7f7f'\n",
    "        )\n",
    "    )\n",
    ")\n",
    "fig = go.Figure(data=data, layout=layout)\n",
    "\n",
    "py.iplot(fig, filename = 'gasia')"
   ]
  }
 ],
 "metadata": {
  "kernelspec": {
   "display_name": "Python 3",
   "language": "python",
   "name": "python3"
  },
  "language_info": {
   "codemirror_mode": {
    "name": "ipython",
    "version": 3
   },
   "file_extension": ".py",
   "mimetype": "text/x-python",
   "name": "python",
   "nbconvert_exporter": "python",
   "pygments_lexer": "ipython3",
   "version": "3.7.1"
  }
 },
 "nbformat": 4,
 "nbformat_minor": 2
}
