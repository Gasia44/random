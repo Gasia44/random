{
 "cells": [
  {
   "cell_type": "markdown",
   "metadata": {},
   "source": [
    "# Setup"
   ]
  },
  {
   "cell_type": "code",
   "execution_count": 1,
   "metadata": {},
   "outputs": [],
   "source": [
    "import numpy as np\n",
    "import pandas as pd\n",
    "import scipy.stats as st"
   ]
  },
  {
   "cell_type": "code",
   "execution_count": 2,
   "metadata": {},
   "outputs": [],
   "source": [
    "import random\n",
    "import decimal"
   ]
  },
  {
   "cell_type": "code",
   "execution_count": 3,
   "metadata": {},
   "outputs": [],
   "source": [
    "import plotly.plotly as py\n",
    "import plotly.graph_objs as go\n",
    "import plotly"
   ]
  },
  {
   "cell_type": "code",
   "execution_count": 4,
   "metadata": {},
   "outputs": [],
   "source": [
    "plotly.tools.set_credentials_file(username='gasia44', api_key='WquddqqfPKg5KJfPJFuk')"
   ]
  },
  {
   "cell_type": "markdown",
   "metadata": {},
   "source": [
    "# Statistic test"
   ]
  },
  {
   "cell_type": "code",
   "execution_count": 5,
   "metadata": {},
   "outputs": [],
   "source": [
    "def stats_sig_unpooled(p_1, p_2, n_1, n_2):\n",
    "    ste = np.sqrt((p_1*(1 - p_1)/n_1 + p_2 * (1- p_2)/n_2))\n",
    "    return((np.abs(p_1-p_2))/ste)"
   ]
  },
  {
   "cell_type": "code",
   "execution_count": 6,
   "metadata": {},
   "outputs": [],
   "source": [
    "def stats_sig_pooled(p_1, p_2, n_1, n_2):\n",
    "    p = (n_1 * p_1 + n_2 * p_2)/ (n_1 + n_2)\n",
    "    ste = np.sqrt((p*(1-p))*(1/n_1 + 1/n_2))\n",
    "    return((np.abs(p_1-p_2))/ste)"
   ]
  },
  {
   "cell_type": "markdown",
   "metadata": {},
   "source": [
    "# Confidence Interval"
   ]
  },
  {
   "cell_type": "code",
   "execution_count": 7,
   "metadata": {},
   "outputs": [],
   "source": [
    "def confidence_interval_pooled(p_1, p_2, n_1, n_2, alpha):\n",
    "    delta = np.abs(p_1 - p_2)\n",
    "    p = (n_1 * p_1 + n_2 * p_2)/ (n_1 + n_2)\n",
    "    ste = np.sqrt((p*(1-p))*(1/n_1 + 1/n_2))\n",
    "    return  delta + st.norm.ppf(alpha) * (ste), delta + st.norm.ppf(1-alpha) * (ste)"
   ]
  },
  {
   "cell_type": "code",
   "execution_count": 8,
   "metadata": {},
   "outputs": [],
   "source": [
    "def confidence_interval_unpooled(p_1, p_2, n_1, n_2, alpha):\n",
    "    delta = np.abs(p_1 - p_2)\n",
    "    ste = np.sqrt((p_1*(1 - p_1)/n_1 + p_2 * (1- p_2)/n_2))\n",
    "    return  delta + st.norm.ppf(alpha) * (ste), delta + st.norm.ppf(1-alpha) * (ste)"
   ]
  },
  {
   "cell_type": "markdown",
   "metadata": {},
   "source": [
    "# Experiments"
   ]
  },
  {
   "cell_type": "markdown",
   "metadata": {},
   "source": [
    "## Data"
   ]
  },
  {
   "cell_type": "code",
   "execution_count": 9,
   "metadata": {},
   "outputs": [],
   "source": [
    "alpha = 0.05\n",
    "n_experiments = 100\n",
    "n_1 = random.sample(range(40, 1000), n_experiments)\n",
    "n_2 = random.sample(range(40, 1000), n_experiments)"
   ]
  },
  {
   "cell_type": "code",
   "execution_count": 10,
   "metadata": {},
   "outputs": [],
   "source": [
    "max_range_1 = (np.array(n_1) - 20)\n",
    "max_range_2 = (np.array(n_2) - 20)"
   ]
  },
  {
   "cell_type": "code",
   "execution_count": 11,
   "metadata": {},
   "outputs": [],
   "source": [
    "p_1 = [round(random.randint(20,max_range_1[i])/n_1[i], 3) for i in range(len(n_1))]\n",
    "p_2 = [round(random.randint(20,max_range_2[i])/n_2[i], 3) for i in range(len(n_2))]"
   ]
  },
  {
   "cell_type": "code",
   "execution_count": 12,
   "metadata": {},
   "outputs": [],
   "source": [
    "df = pd.DataFrame({'n_1': n_1, 'p_1': p_1, 'n_2': n_2, 'p_2' : p_2})"
   ]
  },
  {
   "cell_type": "code",
   "execution_count": 13,
   "metadata": {},
   "outputs": [
    {
     "data": {
      "text/html": [
       "<div>\n",
       "<style scoped>\n",
       "    .dataframe tbody tr th:only-of-type {\n",
       "        vertical-align: middle;\n",
       "    }\n",
       "\n",
       "    .dataframe tbody tr th {\n",
       "        vertical-align: top;\n",
       "    }\n",
       "\n",
       "    .dataframe thead th {\n",
       "        text-align: right;\n",
       "    }\n",
       "</style>\n",
       "<table border=\"1\" class=\"dataframe\">\n",
       "  <thead>\n",
       "    <tr style=\"text-align: right;\">\n",
       "      <th></th>\n",
       "      <th>n_1</th>\n",
       "      <th>p_1</th>\n",
       "      <th>n_2</th>\n",
       "      <th>p_2</th>\n",
       "    </tr>\n",
       "  </thead>\n",
       "  <tbody>\n",
       "    <tr>\n",
       "      <th>0</th>\n",
       "      <td>451</td>\n",
       "      <td>0.180</td>\n",
       "      <td>424</td>\n",
       "      <td>0.276</td>\n",
       "    </tr>\n",
       "    <tr>\n",
       "      <th>1</th>\n",
       "      <td>872</td>\n",
       "      <td>0.761</td>\n",
       "      <td>858</td>\n",
       "      <td>0.577</td>\n",
       "    </tr>\n",
       "    <tr>\n",
       "      <th>2</th>\n",
       "      <td>919</td>\n",
       "      <td>0.317</td>\n",
       "      <td>260</td>\n",
       "      <td>0.919</td>\n",
       "    </tr>\n",
       "    <tr>\n",
       "      <th>3</th>\n",
       "      <td>474</td>\n",
       "      <td>0.608</td>\n",
       "      <td>414</td>\n",
       "      <td>0.157</td>\n",
       "    </tr>\n",
       "    <tr>\n",
       "      <th>4</th>\n",
       "      <td>536</td>\n",
       "      <td>0.216</td>\n",
       "      <td>648</td>\n",
       "      <td>0.170</td>\n",
       "    </tr>\n",
       "  </tbody>\n",
       "</table>\n",
       "</div>"
      ],
      "text/plain": [
       "   n_1    p_1  n_2    p_2\n",
       "0  451  0.180  424  0.276\n",
       "1  872  0.761  858  0.577\n",
       "2  919  0.317  260  0.919\n",
       "3  474  0.608  414  0.157\n",
       "4  536  0.216  648  0.170"
      ]
     },
     "execution_count": 13,
     "metadata": {},
     "output_type": "execute_result"
    }
   ],
   "source": [
    "df.head()"
   ]
  },
  {
   "cell_type": "code",
   "execution_count": 14,
   "metadata": {},
   "outputs": [],
   "source": [
    "df['std_1'] = round(np.sqrt(df['p_1']*(1-df['p_1']) * df['n_1']), 3)\n",
    "df['std_2'] = round(np.sqrt(df['p_2']*(1-df['p_2']) * df['n_2']), 3)"
   ]
  },
  {
   "cell_type": "code",
   "execution_count": 15,
   "metadata": {},
   "outputs": [
    {
     "data": {
      "text/html": [
       "<div>\n",
       "<style scoped>\n",
       "    .dataframe tbody tr th:only-of-type {\n",
       "        vertical-align: middle;\n",
       "    }\n",
       "\n",
       "    .dataframe tbody tr th {\n",
       "        vertical-align: top;\n",
       "    }\n",
       "\n",
       "    .dataframe thead th {\n",
       "        text-align: right;\n",
       "    }\n",
       "</style>\n",
       "<table border=\"1\" class=\"dataframe\">\n",
       "  <thead>\n",
       "    <tr style=\"text-align: right;\">\n",
       "      <th></th>\n",
       "      <th>n_1</th>\n",
       "      <th>p_1</th>\n",
       "      <th>n_2</th>\n",
       "      <th>p_2</th>\n",
       "      <th>std_1</th>\n",
       "      <th>std_2</th>\n",
       "    </tr>\n",
       "  </thead>\n",
       "  <tbody>\n",
       "    <tr>\n",
       "      <th>0</th>\n",
       "      <td>451</td>\n",
       "      <td>0.180</td>\n",
       "      <td>424</td>\n",
       "      <td>0.276</td>\n",
       "      <td>8.159</td>\n",
       "      <td>9.205</td>\n",
       "    </tr>\n",
       "    <tr>\n",
       "      <th>1</th>\n",
       "      <td>872</td>\n",
       "      <td>0.761</td>\n",
       "      <td>858</td>\n",
       "      <td>0.577</td>\n",
       "      <td>12.594</td>\n",
       "      <td>14.471</td>\n",
       "    </tr>\n",
       "    <tr>\n",
       "      <th>2</th>\n",
       "      <td>919</td>\n",
       "      <td>0.317</td>\n",
       "      <td>260</td>\n",
       "      <td>0.919</td>\n",
       "      <td>14.106</td>\n",
       "      <td>4.399</td>\n",
       "    </tr>\n",
       "    <tr>\n",
       "      <th>3</th>\n",
       "      <td>474</td>\n",
       "      <td>0.608</td>\n",
       "      <td>414</td>\n",
       "      <td>0.157</td>\n",
       "      <td>10.629</td>\n",
       "      <td>7.402</td>\n",
       "    </tr>\n",
       "    <tr>\n",
       "      <th>4</th>\n",
       "      <td>536</td>\n",
       "      <td>0.216</td>\n",
       "      <td>648</td>\n",
       "      <td>0.170</td>\n",
       "      <td>9.527</td>\n",
       "      <td>9.562</td>\n",
       "    </tr>\n",
       "  </tbody>\n",
       "</table>\n",
       "</div>"
      ],
      "text/plain": [
       "   n_1    p_1  n_2    p_2   std_1   std_2\n",
       "0  451  0.180  424  0.276   8.159   9.205\n",
       "1  872  0.761  858  0.577  12.594  14.471\n",
       "2  919  0.317  260  0.919  14.106   4.399\n",
       "3  474  0.608  414  0.157  10.629   7.402\n",
       "4  536  0.216  648  0.170   9.527   9.562"
      ]
     },
     "execution_count": 15,
     "metadata": {},
     "output_type": "execute_result"
    }
   ],
   "source": [
    "df.head()"
   ]
  },
  {
   "cell_type": "markdown",
   "metadata": {},
   "source": [
    " RULE OF THUMB: If the larger sample standard deviation is MORE THAN twice the smaller sample standard deviation then perform the analysis using unpooled methods."
   ]
  },
  {
   "cell_type": "code",
   "execution_count": 16,
   "metadata": {},
   "outputs": [],
   "source": [
    "df['std_twice_bigger'] = df[['std_1', 'std_2']].max(axis=1) > 2* df[['std_1', 'std_2']].min(axis=1) "
   ]
  },
  {
   "cell_type": "code",
   "execution_count": 17,
   "metadata": {},
   "outputs": [
    {
     "data": {
      "text/plain": [
       "22"
      ]
     },
     "execution_count": 17,
     "metadata": {},
     "output_type": "execute_result"
    }
   ],
   "source": [
    "np.sum(df['std_twice_bigger'])"
   ]
  },
  {
   "cell_type": "code",
   "execution_count": 18,
   "metadata": {},
   "outputs": [],
   "source": [
    "temp = list(np.linspace(1, 3, 21))\n",
    "std_twice_bigger_exp = [np.sum(df[['std_1', 'std_2']].max(axis=1) > x* df[['std_1', 'std_2']].min(axis=1)) for x in temp]\n"
   ]
  },
  {
   "cell_type": "code",
   "execution_count": 19,
   "metadata": {},
   "outputs": [
    {
     "name": "stderr",
     "output_type": "stream",
     "text": [
      "/Users/gasia/anaconda3/lib/python3.7/site-packages/IPython/core/display.py:689: UserWarning:\n",
      "\n",
      "Consider using IPython.display.IFrame instead\n",
      "\n"
     ]
    },
    {
     "data": {
      "text/html": [
       "<iframe id=\"igraph\" scrolling=\"no\" style=\"border:none;\" seamless=\"seamless\" src=\"https://plot.ly/~gasia44/128.embed\" height=\"525px\" width=\"100%\"></iframe>"
      ],
      "text/plain": [
       "<plotly.tools.PlotlyDisplay object>"
      ]
     },
     "execution_count": 19,
     "metadata": {},
     "output_type": "execute_result"
    }
   ],
   "source": [
    "data = [\n",
    "    go.Scatter(\n",
    "        x = temp,\n",
    "        y =std_twice_bigger_exp)]\n",
    "\n",
    "layout = go.Layout(\n",
    "    title='max std > min std',\n",
    "    xaxis=dict(\n",
    "        title='#times bigger',\n",
    "        titlefont=dict(\n",
    "            family='Courier New, monospace',\n",
    "            size=18,\n",
    "            color='#7f7f7f'\n",
    "        )\n",
    "    ),\n",
    "    yaxis=dict(\n",
    "        title='#data',\n",
    "        titlefont=dict(\n",
    "            family='Courier New, monospace',\n",
    "            size=18,\n",
    "            color='#7f7f7f'\n",
    "        )\n",
    "    )\n",
    ")\n",
    "fig = go.Figure(data=data, layout=layout)\n",
    "\n",
    "\n",
    "py.iplot(fig, filename = 'gasia')"
   ]
  },
  {
   "cell_type": "code",
   "execution_count": 20,
   "metadata": {},
   "outputs": [
    {
     "data": {
      "text/html": [
       "<div>\n",
       "<style scoped>\n",
       "    .dataframe tbody tr th:only-of-type {\n",
       "        vertical-align: middle;\n",
       "    }\n",
       "\n",
       "    .dataframe tbody tr th {\n",
       "        vertical-align: top;\n",
       "    }\n",
       "\n",
       "    .dataframe thead th {\n",
       "        text-align: right;\n",
       "    }\n",
       "</style>\n",
       "<table border=\"1\" class=\"dataframe\">\n",
       "  <thead>\n",
       "    <tr style=\"text-align: right;\">\n",
       "      <th></th>\n",
       "      <th>n_1</th>\n",
       "      <th>p_1</th>\n",
       "      <th>n_2</th>\n",
       "      <th>p_2</th>\n",
       "      <th>std_1</th>\n",
       "      <th>std_2</th>\n",
       "      <th>std_twice_bigger</th>\n",
       "    </tr>\n",
       "  </thead>\n",
       "  <tbody>\n",
       "    <tr>\n",
       "      <th>0</th>\n",
       "      <td>451</td>\n",
       "      <td>0.180</td>\n",
       "      <td>424</td>\n",
       "      <td>0.276</td>\n",
       "      <td>8.159</td>\n",
       "      <td>9.205</td>\n",
       "      <td>False</td>\n",
       "    </tr>\n",
       "    <tr>\n",
       "      <th>1</th>\n",
       "      <td>872</td>\n",
       "      <td>0.761</td>\n",
       "      <td>858</td>\n",
       "      <td>0.577</td>\n",
       "      <td>12.594</td>\n",
       "      <td>14.471</td>\n",
       "      <td>False</td>\n",
       "    </tr>\n",
       "    <tr>\n",
       "      <th>2</th>\n",
       "      <td>919</td>\n",
       "      <td>0.317</td>\n",
       "      <td>260</td>\n",
       "      <td>0.919</td>\n",
       "      <td>14.106</td>\n",
       "      <td>4.399</td>\n",
       "      <td>True</td>\n",
       "    </tr>\n",
       "    <tr>\n",
       "      <th>3</th>\n",
       "      <td>474</td>\n",
       "      <td>0.608</td>\n",
       "      <td>414</td>\n",
       "      <td>0.157</td>\n",
       "      <td>10.629</td>\n",
       "      <td>7.402</td>\n",
       "      <td>False</td>\n",
       "    </tr>\n",
       "    <tr>\n",
       "      <th>4</th>\n",
       "      <td>536</td>\n",
       "      <td>0.216</td>\n",
       "      <td>648</td>\n",
       "      <td>0.170</td>\n",
       "      <td>9.527</td>\n",
       "      <td>9.562</td>\n",
       "      <td>False</td>\n",
       "    </tr>\n",
       "  </tbody>\n",
       "</table>\n",
       "</div>"
      ],
      "text/plain": [
       "   n_1    p_1  n_2    p_2   std_1   std_2  std_twice_bigger\n",
       "0  451  0.180  424  0.276   8.159   9.205             False\n",
       "1  872  0.761  858  0.577  12.594  14.471             False\n",
       "2  919  0.317  260  0.919  14.106   4.399              True\n",
       "3  474  0.608  414  0.157  10.629   7.402             False\n",
       "4  536  0.216  648  0.170   9.527   9.562             False"
      ]
     },
     "execution_count": 20,
     "metadata": {},
     "output_type": "execute_result"
    }
   ],
   "source": [
    "df.head()"
   ]
  },
  {
   "cell_type": "markdown",
   "metadata": {},
   "source": [
    "-----------"
   ]
  },
  {
   "cell_type": "markdown",
   "metadata": {},
   "source": [
    "## Calculations"
   ]
  },
  {
   "cell_type": "code",
   "execution_count": 21,
   "metadata": {},
   "outputs": [],
   "source": [
    "df['test_stat_pooled'] = 0.0\n",
    "df['test_stat_unpooled'] = 0.0\n",
    "\n",
    "df['confid_interval_pooled_min'] = 0.0\n",
    "df['confid_interval_pooled_max'] = 0.0\n",
    "df['confid_interval_unpooled_min'] = 0.0\n",
    "df['confid_interval_unpooled_max'] = 0.0"
   ]
  },
  {
   "cell_type": "code",
   "execution_count": 22,
   "metadata": {},
   "outputs": [],
   "source": [
    "for i in range(len(df)):\n",
    "    d = df.iloc[i]\n",
    "    df.loc[i,'test_stat_pooled'] =   stats_sig_pooled(p_1= d['p_1'], p_2= d['p_2'], n_1= d['n_1'], n_2 =d['n_2'])\n",
    "    df.loc[i,'test_stat_unpooled'] = stats_sig_unpooled(p_1= d['p_1'], p_2= d['p_2'], n_1= d['n_1'], n_2 =d['n_2'])\n",
    "    \n",
    "    conf_res = confidence_interval_pooled(p_1= d['p_1'], p_2= d['p_2'], n_1= d['n_1'], n_2 =d['n_2'], alpha = alpha)\n",
    "    df.loc[i,'confid_interval_pooled_min'], df.loc[i,'confid_interval_pooled_max']   =  conf_res[0], conf_res[1]\n",
    "    \n",
    "    conf_res = confidence_interval_unpooled(p_1= d['p_1'], p_2= d['p_2'], n_1= d['n_1'], n_2 =d['n_2'], alpha = alpha)\n",
    "    df.loc[i,'confid_interval_unpooled_min'], df.loc[i,'confid_interval_unpooled_max'] =  conf_res[0], conf_res[1]"
   ]
  },
  {
   "cell_type": "code",
   "execution_count": 23,
   "metadata": {},
   "outputs": [],
   "source": [
    "df = df.sort_values(['n_1', 'n_2'])"
   ]
  },
  {
   "cell_type": "code",
   "execution_count": 24,
   "metadata": {},
   "outputs": [],
   "source": [
    "df.reset_index(inplace = True, drop=True)"
   ]
  },
  {
   "cell_type": "code",
   "execution_count": 25,
   "metadata": {},
   "outputs": [
    {
     "data": {
      "text/html": [
       "<div>\n",
       "<style scoped>\n",
       "    .dataframe tbody tr th:only-of-type {\n",
       "        vertical-align: middle;\n",
       "    }\n",
       "\n",
       "    .dataframe tbody tr th {\n",
       "        vertical-align: top;\n",
       "    }\n",
       "\n",
       "    .dataframe thead th {\n",
       "        text-align: right;\n",
       "    }\n",
       "</style>\n",
       "<table border=\"1\" class=\"dataframe\">\n",
       "  <thead>\n",
       "    <tr style=\"text-align: right;\">\n",
       "      <th></th>\n",
       "      <th>n_1</th>\n",
       "      <th>p_1</th>\n",
       "      <th>n_2</th>\n",
       "      <th>p_2</th>\n",
       "      <th>std_1</th>\n",
       "      <th>std_2</th>\n",
       "      <th>std_twice_bigger</th>\n",
       "      <th>test_stat_pooled</th>\n",
       "      <th>test_stat_unpooled</th>\n",
       "      <th>confid_interval_pooled_min</th>\n",
       "      <th>confid_interval_pooled_max</th>\n",
       "      <th>confid_interval_unpooled_min</th>\n",
       "      <th>confid_interval_unpooled_max</th>\n",
       "    </tr>\n",
       "  </thead>\n",
       "  <tbody>\n",
       "    <tr>\n",
       "      <th>0</th>\n",
       "      <td>40</td>\n",
       "      <td>0.500</td>\n",
       "      <td>909</td>\n",
       "      <td>0.130</td>\n",
       "      <td>3.162</td>\n",
       "      <td>10.139</td>\n",
       "      <td>True</td>\n",
       "      <td>6.493442</td>\n",
       "      <td>4.634270</td>\n",
       "      <td>0.276275</td>\n",
       "      <td>0.463725</td>\n",
       "      <td>0.238675</td>\n",
       "      <td>0.501325</td>\n",
       "    </tr>\n",
       "    <tr>\n",
       "      <th>1</th>\n",
       "      <td>57</td>\n",
       "      <td>0.351</td>\n",
       "      <td>910</td>\n",
       "      <td>0.718</td>\n",
       "      <td>3.603</td>\n",
       "      <td>13.574</td>\n",
       "      <td>True</td>\n",
       "      <td>5.845443</td>\n",
       "      <td>5.650184</td>\n",
       "      <td>0.263730</td>\n",
       "      <td>0.470270</td>\n",
       "      <td>0.260161</td>\n",
       "      <td>0.473839</td>\n",
       "    </tr>\n",
       "    <tr>\n",
       "      <th>2</th>\n",
       "      <td>83</td>\n",
       "      <td>0.494</td>\n",
       "      <td>591</td>\n",
       "      <td>0.240</td>\n",
       "      <td>4.555</td>\n",
       "      <td>10.383</td>\n",
       "      <td>True</td>\n",
       "      <td>4.873577</td>\n",
       "      <td>4.408072</td>\n",
       "      <td>0.168274</td>\n",
       "      <td>0.339726</td>\n",
       "      <td>0.159221</td>\n",
       "      <td>0.348779</td>\n",
       "    </tr>\n",
       "    <tr>\n",
       "      <th>3</th>\n",
       "      <td>88</td>\n",
       "      <td>0.625</td>\n",
       "      <td>502</td>\n",
       "      <td>0.892</td>\n",
       "      <td>4.541</td>\n",
       "      <td>6.954</td>\n",
       "      <td>False</td>\n",
       "      <td>6.509410</td>\n",
       "      <td>4.996762</td>\n",
       "      <td>0.199532</td>\n",
       "      <td>0.334468</td>\n",
       "      <td>0.179108</td>\n",
       "      <td>0.354892</td>\n",
       "    </tr>\n",
       "    <tr>\n",
       "      <th>4</th>\n",
       "      <td>92</td>\n",
       "      <td>0.348</td>\n",
       "      <td>843</td>\n",
       "      <td>0.285</td>\n",
       "      <td>4.569</td>\n",
       "      <td>13.107</td>\n",
       "      <td>True</td>\n",
       "      <td>1.262948</td>\n",
       "      <td>1.210646</td>\n",
       "      <td>-0.019051</td>\n",
       "      <td>0.145051</td>\n",
       "      <td>-0.022595</td>\n",
       "      <td>0.148595</td>\n",
       "    </tr>\n",
       "  </tbody>\n",
       "</table>\n",
       "</div>"
      ],
      "text/plain": [
       "   n_1    p_1  n_2    p_2  std_1   std_2  std_twice_bigger  test_stat_pooled  \\\n",
       "0   40  0.500  909  0.130  3.162  10.139              True          6.493442   \n",
       "1   57  0.351  910  0.718  3.603  13.574              True          5.845443   \n",
       "2   83  0.494  591  0.240  4.555  10.383              True          4.873577   \n",
       "3   88  0.625  502  0.892  4.541   6.954             False          6.509410   \n",
       "4   92  0.348  843  0.285  4.569  13.107              True          1.262948   \n",
       "\n",
       "   test_stat_unpooled  confid_interval_pooled_min  confid_interval_pooled_max  \\\n",
       "0            4.634270                    0.276275                    0.463725   \n",
       "1            5.650184                    0.263730                    0.470270   \n",
       "2            4.408072                    0.168274                    0.339726   \n",
       "3            4.996762                    0.199532                    0.334468   \n",
       "4            1.210646                   -0.019051                    0.145051   \n",
       "\n",
       "   confid_interval_unpooled_min  confid_interval_unpooled_max  \n",
       "0                      0.238675                      0.501325  \n",
       "1                      0.260161                      0.473839  \n",
       "2                      0.159221                      0.348779  \n",
       "3                      0.179108                      0.354892  \n",
       "4                     -0.022595                      0.148595  "
      ]
     },
     "execution_count": 25,
     "metadata": {},
     "output_type": "execute_result"
    }
   ],
   "source": [
    "df.head()"
   ]
  },
  {
   "cell_type": "markdown",
   "metadata": {},
   "source": [
    "## Insights"
   ]
  },
  {
   "cell_type": "markdown",
   "metadata": {},
   "source": [
    "### Test Statistisc"
   ]
  },
  {
   "cell_type": "code",
   "execution_count": 26,
   "metadata": {},
   "outputs": [
    {
     "data": {
      "text/html": [
       "<iframe id=\"igraph\" scrolling=\"no\" style=\"border:none;\" seamless=\"seamless\" src=\"https://plot.ly/~gasia44/128.embed\" height=\"525px\" width=\"100%\"></iframe>"
      ],
      "text/plain": [
       "<plotly.tools.PlotlyDisplay object>"
      ]
     },
     "execution_count": 26,
     "metadata": {},
     "output_type": "execute_result"
    }
   ],
   "source": [
    "data = [\n",
    "    go.Scatter(\n",
    "        x = df.index ,\n",
    "        y = df['test_stat_pooled'].values,\n",
    "        mode = 'lines',\n",
    "        name = 'pooled'), \n",
    "    \n",
    "    go.Scatter(\n",
    "        x = df.index ,\n",
    "        y = df['test_stat_unpooled'].values,\n",
    "        mode = 'lines',\n",
    "        name = 'unpooled'), \n",
    "    \n",
    "        \n",
    "    go.Scatter(\n",
    "        x = (df[df['std_twice_bigger']]).index ,\n",
    "        y = df[df['std_twice_bigger']]['test_stat_unpooled'].values,\n",
    "        mode = 'markers',\n",
    "        name = 'std_twice_bigger'),\n",
    "\n",
    "    ]\n",
    "\n",
    "layout = go.Layout(\n",
    "    title='Test Statistic',\n",
    "    xaxis=dict(\n",
    "        title='index',\n",
    "        titlefont=dict(\n",
    "            family='Courier New, monospace',\n",
    "            size=18,\n",
    "            color='#7f7f7f'\n",
    "        )\n",
    "    ),\n",
    "    yaxis=dict(\n",
    "        title='test statistic',\n",
    "        titlefont=dict(\n",
    "            family='Courier New, monospace',\n",
    "            size=18,\n",
    "            color='#7f7f7f'\n",
    "        )\n",
    "    )\n",
    ")\n",
    "fig = go.Figure(data=data, layout=layout)\n",
    "\n",
    "py.iplot(fig, filename = 'gasia')"
   ]
  },
  {
   "cell_type": "code",
   "execution_count": 27,
   "metadata": {},
   "outputs": [],
   "source": [
    "df['diff'] = df['test_stat_unpooled'] - df['test_stat_pooled']"
   ]
  },
  {
   "cell_type": "code",
   "execution_count": 28,
   "metadata": {},
   "outputs": [
    {
     "data": {
      "text/html": [
       "<iframe id=\"igraph\" scrolling=\"no\" style=\"border:none;\" seamless=\"seamless\" src=\"https://plot.ly/~gasia44/128.embed\" height=\"525px\" width=\"100%\"></iframe>"
      ],
      "text/plain": [
       "<plotly.tools.PlotlyDisplay object>"
      ]
     },
     "execution_count": 28,
     "metadata": {},
     "output_type": "execute_result"
    }
   ],
   "source": [
    "data = [\n",
    "    go.Scatter(\n",
    "        x = df.index ,\n",
    "        y = df['diff'].values,\n",
    "        mode = 'lines',\n",
    "        name = 'difference'), \n",
    "    \n",
    "        \n",
    "    go.Scatter(\n",
    "        x = (df[df['std_twice_bigger']]).index ,\n",
    "        y = df[df['std_twice_bigger']]['diff'].values,\n",
    "        mode = 'markers',\n",
    "        name = 'std_twice_bigger'),\n",
    "\n",
    "    ]\n",
    "\n",
    "layout = go.Layout(\n",
    "    title='Test Statistic difference',\n",
    "    xaxis=dict(\n",
    "        title='index',\n",
    "        titlefont=dict(\n",
    "            family='Courier New, monospace',\n",
    "            size=18,\n",
    "            color='#7f7f7f'\n",
    "        )\n",
    "    ),\n",
    "    yaxis=dict(\n",
    "        title='unpooled - pooled',\n",
    "        titlefont=dict(\n",
    "            family='Courier New, monospace',\n",
    "            size=18,\n",
    "            color='#7f7f7f'\n",
    "        )\n",
    "    )\n",
    ")\n",
    "fig = go.Figure(data=data, layout=layout)\n",
    "\n",
    "py.iplot(fig, filename = 'gasia')"
   ]
  },
  {
   "cell_type": "markdown",
   "metadata": {},
   "source": [
    "### Confidence Interval"
   ]
  },
  {
   "cell_type": "code",
   "execution_count": 29,
   "metadata": {},
   "outputs": [
    {
     "data": {
      "text/html": [
       "<iframe id=\"igraph\" scrolling=\"no\" style=\"border:none;\" seamless=\"seamless\" src=\"https://plot.ly/~gasia44/128.embed\" height=\"525px\" width=\"100%\"></iframe>"
      ],
      "text/plain": [
       "<plotly.tools.PlotlyDisplay object>"
      ]
     },
     "execution_count": 29,
     "metadata": {},
     "output_type": "execute_result"
    }
   ],
   "source": [
    "data = [\n",
    "    go.Scatter(\n",
    "        x = df.index ,\n",
    "        y = df['confid_interval_pooled_min'].values,\n",
    "        mode = 'lines',\n",
    "        name = 'pooled_min'), \n",
    "    \n",
    "    go.Scatter(\n",
    "        x = df.index ,\n",
    "        y = df['confid_interval_pooled_max'].values,\n",
    "        mode = 'lines',\n",
    "        name = 'pooled_max'),\n",
    "    \n",
    "    go.Scatter(\n",
    "        x = df.index ,\n",
    "        y = df['confid_interval_unpooled_min'].values,\n",
    "        mode = 'lines',\n",
    "        name = 'unpooled_min'), \n",
    "    \n",
    "    go.Scatter(\n",
    "        x = df.index ,\n",
    "        y = df['confid_interval_unpooled_max'].values,\n",
    "        mode = 'lines',\n",
    "        name = 'unpooled_max'), \n",
    "    \n",
    "    go.Scatter(\n",
    "        x = (df[df['std_twice_bigger']]).index ,\n",
    "        y = df[df['std_twice_bigger']]['confid_interval_unpooled_max'].values,\n",
    "        mode = 'markers',\n",
    "        name = 'std_twice_bigger'),\n",
    "    \n",
    "    go.Scatter(\n",
    "        x = (df[df['std_twice_bigger']]).index ,\n",
    "        y = df[df['std_twice_bigger']]['confid_interval_unpooled_min'].values,\n",
    "        mode = 'markers',\n",
    "        name = 'std_twice_bigger'),\n",
    "    ]\n",
    "\n",
    "layout = go.Layout(\n",
    "    title='Confidence Interval',\n",
    "    xaxis=dict(\n",
    "        title='index',\n",
    "        titlefont=dict(\n",
    "            family='Courier New, monospace',\n",
    "            size=18,\n",
    "            color='#7f7f7f'\n",
    "        )\n",
    "    ),\n",
    "    yaxis=dict(\n",
    "        title='confidence interval',\n",
    "        titlefont=dict(\n",
    "            family='Courier New, monospace',\n",
    "            size=18,\n",
    "            color='#7f7f7f'\n",
    "        )\n",
    "    )\n",
    ")\n",
    "fig = go.Figure(data=data, layout=layout)\n",
    "\n",
    "py.iplot(fig, filename = 'gasia')"
   ]
  },
  {
   "cell_type": "code",
   "execution_count": 30,
   "metadata": {},
   "outputs": [],
   "source": [
    "df['conf_diff'] = df['confid_interval_unpooled_max'] - df['confid_interval_pooled_max']"
   ]
  },
  {
   "cell_type": "code",
   "execution_count": 31,
   "metadata": {},
   "outputs": [
    {
     "data": {
      "text/html": [
       "<iframe id=\"igraph\" scrolling=\"no\" style=\"border:none;\" seamless=\"seamless\" src=\"https://plot.ly/~gasia44/128.embed\" height=\"525px\" width=\"100%\"></iframe>"
      ],
      "text/plain": [
       "<plotly.tools.PlotlyDisplay object>"
      ]
     },
     "execution_count": 31,
     "metadata": {},
     "output_type": "execute_result"
    }
   ],
   "source": [
    "data = [\n",
    "    \n",
    "    go.Scatter(\n",
    "        x = df.index ,\n",
    "        y = df['conf_diff'].values,\n",
    "        mode = 'lines',\n",
    "        name = 'unpooled - pooled'), \n",
    "    \n",
    "    go.Scatter(\n",
    "        x = (df[df['std_twice_bigger']]).index ,\n",
    "        y = df[df['std_twice_bigger']]['conf_diff'].values,\n",
    "        mode = 'markers',\n",
    "        name = 'std_twice_bigger'),  \n",
    "    ]\n",
    "\n",
    "layout = go.Layout(\n",
    "    title='Confidence Interval Difference',\n",
    "    xaxis=dict(\n",
    "        title='index',\n",
    "        titlefont=dict(\n",
    "            family='Courier New, monospace',\n",
    "            size=18,\n",
    "            color='#7f7f7f'\n",
    "        )\n",
    "    ),\n",
    "    yaxis=dict(\n",
    "        title='unpooled - pooled',\n",
    "        titlefont=dict(\n",
    "            family='Courier New, monospace',\n",
    "            size=18,\n",
    "            color='#7f7f7f'\n",
    "        )\n",
    "    )\n",
    ")\n",
    "fig = go.Figure(data=data, layout=layout)\n",
    "\n",
    "py.iplot(fig, filename = 'gasia')"
   ]
  }
 ],
 "metadata": {
  "kernelspec": {
   "display_name": "Python 3",
   "language": "python",
   "name": "python3"
  },
  "language_info": {
   "codemirror_mode": {
    "name": "ipython",
    "version": 3
   },
   "file_extension": ".py",
   "mimetype": "text/x-python",
   "name": "python",
   "nbconvert_exporter": "python",
   "pygments_lexer": "ipython3",
   "version": "3.7.1"
  }
 },
 "nbformat": 4,
 "nbformat_minor": 2
}
