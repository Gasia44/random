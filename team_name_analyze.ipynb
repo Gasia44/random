{
 "cells": [
  {
   "cell_type": "markdown",
   "metadata": {},
   "source": [
    "# Setup"
   ]
  },
  {
   "cell_type": "code",
   "execution_count": 1,
   "metadata": {},
   "outputs": [],
   "source": [
    "import numpy as np\n",
    "import pandas as pd\n",
    "from nltk.probability import FreqDist\n",
    "from nltk.stem import PorterStemmer\n",
    "import matplotlib.pyplot as plt\n",
    "from collections import Counter\n",
    "import collections\n",
    "%matplotlib inline"
   ]
  },
  {
   "cell_type": "markdown",
   "metadata": {},
   "source": [
    "# Data"
   ]
  },
  {
   "cell_type": "markdown",
   "metadata": {},
   "source": [
    "team name"
   ]
  },
  {
   "cell_type": "code",
   "execution_count": 2,
   "metadata": {},
   "outputs": [],
   "source": [
    "df = pd.DataFrame(['data hawks', 'abraca data', 'deep thinkers', 'data junkies', 'data punks'], columns =['name'])"
   ]
  },
  {
   "cell_type": "code",
   "execution_count": 3,
   "metadata": {},
   "outputs": [
    {
     "data": {
      "text/html": [
       "<div>\n",
       "<style scoped>\n",
       "    .dataframe tbody tr th:only-of-type {\n",
       "        vertical-align: middle;\n",
       "    }\n",
       "\n",
       "    .dataframe tbody tr th {\n",
       "        vertical-align: top;\n",
       "    }\n",
       "\n",
       "    .dataframe thead th {\n",
       "        text-align: right;\n",
       "    }\n",
       "</style>\n",
       "<table border=\"1\" class=\"dataframe\">\n",
       "  <thead>\n",
       "    <tr style=\"text-align: right;\">\n",
       "      <th></th>\n",
       "      <th>name</th>\n",
       "    </tr>\n",
       "  </thead>\n",
       "  <tbody>\n",
       "    <tr>\n",
       "      <th>0</th>\n",
       "      <td>data hawks</td>\n",
       "    </tr>\n",
       "    <tr>\n",
       "      <th>1</th>\n",
       "      <td>abraca data</td>\n",
       "    </tr>\n",
       "    <tr>\n",
       "      <th>2</th>\n",
       "      <td>deep thinkers</td>\n",
       "    </tr>\n",
       "    <tr>\n",
       "      <th>3</th>\n",
       "      <td>data junkies</td>\n",
       "    </tr>\n",
       "    <tr>\n",
       "      <th>4</th>\n",
       "      <td>data punks</td>\n",
       "    </tr>\n",
       "  </tbody>\n",
       "</table>\n",
       "</div>"
      ],
      "text/plain": [
       "            name\n",
       "0     data hawks\n",
       "1    abraca data\n",
       "2  deep thinkers\n",
       "3   data junkies\n",
       "4     data punks"
      ]
     },
     "execution_count": 3,
     "metadata": {},
     "output_type": "execute_result"
    }
   ],
   "source": [
    "df"
   ]
  },
  {
   "cell_type": "markdown",
   "metadata": {},
   "source": [
    "relative frequency of English letters"
   ]
  },
  {
   "cell_type": "code",
   "execution_count": 4,
   "metadata": {},
   "outputs": [],
   "source": [
    "english_letter_freq_dict = {'a': 0.08167, 'n': 0.06749, 'b': 0.01492, 'o': 0.07507, 'c': 0.02782, 'p': 0.01929, 'd': 0.04253, 'q': 0.00095, 'e': 0.12702, 'r': 0.05987, 'f': 0.02228, 's': 0.06327, 'g': 0.02015, 't': 0.09056, 'h': 0.06094, 'u': 0.02758, 'i': 0.06966, 'v': 0.00978, 'j': 0.00153, 'w': 0.0236, 'k': 0.00772, 'x': 0.0015, 'l': 0.04025, 'y': 0.01974, 'm': 0.02406, 'z': 0.00074}"
   ]
  },
  {
   "cell_type": "code",
   "execution_count": 5,
   "metadata": {},
   "outputs": [
    {
     "data": {
      "text/plain": [
       "OrderedDict([('a', 0.08167),\n",
       "             ('b', 0.01492),\n",
       "             ('c', 0.02782),\n",
       "             ('d', 0.04253),\n",
       "             ('e', 0.12702),\n",
       "             ('f', 0.02228),\n",
       "             ('g', 0.02015),\n",
       "             ('h', 0.06094),\n",
       "             ('i', 0.06966),\n",
       "             ('j', 0.00153),\n",
       "             ('k', 0.00772),\n",
       "             ('l', 0.04025),\n",
       "             ('m', 0.02406),\n",
       "             ('n', 0.06749),\n",
       "             ('o', 0.07507),\n",
       "             ('p', 0.01929),\n",
       "             ('q', 0.00095),\n",
       "             ('r', 0.05987),\n",
       "             ('s', 0.06327),\n",
       "             ('t', 0.09056),\n",
       "             ('u', 0.02758),\n",
       "             ('v', 0.00978),\n",
       "             ('w', 0.0236),\n",
       "             ('x', 0.0015),\n",
       "             ('y', 0.01974),\n",
       "             ('z', 0.00074)])"
      ]
     },
     "execution_count": 5,
     "metadata": {},
     "output_type": "execute_result"
    }
   ],
   "source": [
    "collections.OrderedDict(sorted(english_letter_freq_dict.items()))"
   ]
  },
  {
   "cell_type": "markdown",
   "metadata": {},
   "source": [
    "# Analyze:"
   ]
  },
  {
   "cell_type": "markdown",
   "metadata": {},
   "source": [
    "## Length"
   ]
  },
  {
   "cell_type": "code",
   "execution_count": 6,
   "metadata": {},
   "outputs": [],
   "source": [
    "df['length'] = [len(x) for x in df.name] "
   ]
  },
  {
   "cell_type": "code",
   "execution_count": 7,
   "metadata": {},
   "outputs": [
    {
     "data": {
      "image/png": "[encoded data removed]",
      "text/plain": [
       "<Figure size 864x360 with 1 Axes>"
      ]
     },
     "metadata": {
      "needs_background": "light"
     },
     "output_type": "display_data"
    }
   ],
   "source": [
    "plt.figure(figsize = (12,5))\n",
    "width = 2/3\n",
    "plt.bar(df.sort_values(['length'])['name'], df.sort_values(['length'])['length'], width, color=\"blue\")\n",
    "plt.yticks(df.sort_values(['length'])['length'])\n",
    "plt.ylabel('length')\n",
    "plt.title('name length')\n",
    "plt.ylim(9,14)\n",
    "plt.grid(True)\n",
    "plt.show()"
   ]
  },
  {
   "cell_type": "markdown",
   "metadata": {},
   "source": [
    "## Letter Frequency"
   ]
  },
  {
   "cell_type": "code",
   "execution_count": 8,
   "metadata": {},
   "outputs": [],
   "source": [
    "df['frequency']  = [Counter(df['name'][i].replace(' ','')).most_common() for i in range(len(df))]"
   ]
  },
  {
   "cell_type": "code",
   "execution_count": 9,
   "metadata": {},
   "outputs": [
    {
     "name": "stdout",
     "output_type": "stream",
     "text": [
      "['data hawks'\n",
      " list([('a', 3), ('d', 1), ('t', 1), ('h', 1), ('w', 1), ('k', 1), ('s', 1)])]\n",
      "\n",
      "['abraca data'\n",
      " list([('a', 5), ('b', 1), ('r', 1), ('c', 1), ('d', 1), ('t', 1)])]\n",
      "\n",
      "['deep thinkers'\n",
      " list([('e', 3), ('d', 1), ('p', 1), ('t', 1), ('h', 1), ('i', 1), ('n', 1), ('k', 1), ('r', 1), ('s', 1)])]\n",
      "\n",
      "['data junkies'\n",
      " list([('a', 2), ('d', 1), ('t', 1), ('j', 1), ('u', 1), ('n', 1), ('k', 1), ('i', 1), ('e', 1), ('s', 1)])]\n",
      "\n",
      "['data punks'\n",
      " list([('a', 2), ('d', 1), ('t', 1), ('p', 1), ('u', 1), ('n', 1), ('k', 1), ('s', 1)])]\n",
      "\n"
     ]
    }
   ],
   "source": [
    "for item in df[['name', 'frequency']].values:\n",
    "    print(item)  \n",
    "    print()"
   ]
  },
  {
   "cell_type": "markdown",
   "metadata": {},
   "source": [
    "## Unique char"
   ]
  },
  {
   "cell_type": "code",
   "execution_count": 10,
   "metadata": {},
   "outputs": [],
   "source": [
    "df['unique_char'] = [len(x) for x in df['frequency'] ]"
   ]
  },
  {
   "cell_type": "code",
   "execution_count": 11,
   "metadata": {},
   "outputs": [
    {
     "data": {
      "text/html": [
       "<div>\n",
       "<style scoped>\n",
       "    .dataframe tbody tr th:only-of-type {\n",
       "        vertical-align: middle;\n",
       "    }\n",
       "\n",
       "    .dataframe tbody tr th {\n",
       "        vertical-align: top;\n",
       "    }\n",
       "\n",
       "    .dataframe thead th {\n",
       "        text-align: right;\n",
       "    }\n",
       "</style>\n",
       "<table border=\"1\" class=\"dataframe\">\n",
       "  <thead>\n",
       "    <tr style=\"text-align: right;\">\n",
       "      <th></th>\n",
       "      <th>name</th>\n",
       "      <th>length</th>\n",
       "      <th>frequency</th>\n",
       "      <th>unique_char</th>\n",
       "    </tr>\n",
       "  </thead>\n",
       "  <tbody>\n",
       "    <tr>\n",
       "      <th>1</th>\n",
       "      <td>abraca data</td>\n",
       "      <td>11</td>\n",
       "      <td>[(a, 5), (b, 1), (r, 1), (c, 1), (d, 1), (t, 1)]</td>\n",
       "      <td>6</td>\n",
       "    </tr>\n",
       "    <tr>\n",
       "      <th>0</th>\n",
       "      <td>data hawks</td>\n",
       "      <td>10</td>\n",
       "      <td>[(a, 3), (d, 1), (t, 1), (h, 1), (w, 1), (k, 1...</td>\n",
       "      <td>7</td>\n",
       "    </tr>\n",
       "    <tr>\n",
       "      <th>4</th>\n",
       "      <td>data punks</td>\n",
       "      <td>10</td>\n",
       "      <td>[(a, 2), (d, 1), (t, 1), (p, 1), (u, 1), (n, 1...</td>\n",
       "      <td>8</td>\n",
       "    </tr>\n",
       "    <tr>\n",
       "      <th>2</th>\n",
       "      <td>deep thinkers</td>\n",
       "      <td>13</td>\n",
       "      <td>[(e, 3), (d, 1), (p, 1), (t, 1), (h, 1), (i, 1...</td>\n",
       "      <td>10</td>\n",
       "    </tr>\n",
       "    <tr>\n",
       "      <th>3</th>\n",
       "      <td>data junkies</td>\n",
       "      <td>12</td>\n",
       "      <td>[(a, 2), (d, 1), (t, 1), (j, 1), (u, 1), (n, 1...</td>\n",
       "      <td>10</td>\n",
       "    </tr>\n",
       "  </tbody>\n",
       "</table>\n",
       "</div>"
      ],
      "text/plain": [
       "            name  length                                          frequency  \\\n",
       "1    abraca data      11   [(a, 5), (b, 1), (r, 1), (c, 1), (d, 1), (t, 1)]   \n",
       "0     data hawks      10  [(a, 3), (d, 1), (t, 1), (h, 1), (w, 1), (k, 1...   \n",
       "4     data punks      10  [(a, 2), (d, 1), (t, 1), (p, 1), (u, 1), (n, 1...   \n",
       "2  deep thinkers      13  [(e, 3), (d, 1), (p, 1), (t, 1), (h, 1), (i, 1...   \n",
       "3   data junkies      12  [(a, 2), (d, 1), (t, 1), (j, 1), (u, 1), (n, 1...   \n",
       "\n",
       "   unique_char  \n",
       "1            6  \n",
       "0            7  \n",
       "4            8  \n",
       "2           10  \n",
       "3           10  "
      ]
     },
     "execution_count": 11,
     "metadata": {},
     "output_type": "execute_result"
    }
   ],
   "source": [
    "df.sort_values(['unique_char']) "
   ]
  },
  {
   "cell_type": "code",
   "execution_count": 12,
   "metadata": {},
   "outputs": [
    {
     "data": {
      "image/png": "[encoded data removed]",
      "text/plain": [
       "<Figure size 864x360 with 1 Axes>"
      ]
     },
     "metadata": {
      "needs_background": "light"
     },
     "output_type": "display_data"
    }
   ],
   "source": [
    "plt.figure(figsize = (12,5))\n",
    "width = 2/3\n",
    "temp_df = df.sort_values(['unique_char']) \n",
    "plt.bar(temp_df['name'], temp_df['unique_char'], width, color=\"blue\")\n",
    "plt.yticks(temp_df['unique_char'])\n",
    "plt.ylabel('# characters')\n",
    "plt.title('#unique characters')\n",
    "plt.ylim(5,11)\n",
    "plt.grid(True)\n",
    "plt.show()"
   ]
  },
  {
   "cell_type": "markdown",
   "metadata": {},
   "source": [
    "# Stem"
   ]
  },
  {
   "cell_type": "code",
   "execution_count": 13,
   "metadata": {},
   "outputs": [],
   "source": [
    "st = PorterStemmer()"
   ]
  },
  {
   "cell_type": "code",
   "execution_count": 14,
   "metadata": {},
   "outputs": [],
   "source": [
    "stem_name = []\n",
    "for n in df['name']:\n",
    "    stem_name.append([st.stem(word) for word in n.split()])"
   ]
  },
  {
   "cell_type": "code",
   "execution_count": 15,
   "metadata": {},
   "outputs": [],
   "source": [
    "df['stem_name'] = [' '.join(st_n) for st_n in stem_name]"
   ]
  },
  {
   "cell_type": "code",
   "execution_count": 16,
   "metadata": {},
   "outputs": [
    {
     "data": {
      "text/html": [
       "<div>\n",
       "<style scoped>\n",
       "    .dataframe tbody tr th:only-of-type {\n",
       "        vertical-align: middle;\n",
       "    }\n",
       "\n",
       "    .dataframe tbody tr th {\n",
       "        vertical-align: top;\n",
       "    }\n",
       "\n",
       "    .dataframe thead th {\n",
       "        text-align: right;\n",
       "    }\n",
       "</style>\n",
       "<table border=\"1\" class=\"dataframe\">\n",
       "  <thead>\n",
       "    <tr style=\"text-align: right;\">\n",
       "      <th></th>\n",
       "      <th>name</th>\n",
       "      <th>stem_name</th>\n",
       "    </tr>\n",
       "  </thead>\n",
       "  <tbody>\n",
       "    <tr>\n",
       "      <th>0</th>\n",
       "      <td>data hawks</td>\n",
       "      <td>data hawk</td>\n",
       "    </tr>\n",
       "    <tr>\n",
       "      <th>1</th>\n",
       "      <td>abraca data</td>\n",
       "      <td>abraca data</td>\n",
       "    </tr>\n",
       "    <tr>\n",
       "      <th>2</th>\n",
       "      <td>deep thinkers</td>\n",
       "      <td>deep thinker</td>\n",
       "    </tr>\n",
       "    <tr>\n",
       "      <th>3</th>\n",
       "      <td>data junkies</td>\n",
       "      <td>data junki</td>\n",
       "    </tr>\n",
       "    <tr>\n",
       "      <th>4</th>\n",
       "      <td>data punks</td>\n",
       "      <td>data punk</td>\n",
       "    </tr>\n",
       "  </tbody>\n",
       "</table>\n",
       "</div>"
      ],
      "text/plain": [
       "            name     stem_name\n",
       "0     data hawks     data hawk\n",
       "1    abraca data   abraca data\n",
       "2  deep thinkers  deep thinker\n",
       "3   data junkies    data junki\n",
       "4     data punks     data punk"
      ]
     },
     "execution_count": 16,
     "metadata": {},
     "output_type": "execute_result"
    }
   ],
   "source": [
    "df[['name', 'stem_name']]"
   ]
  },
  {
   "cell_type": "markdown",
   "metadata": {},
   "source": [
    "## Probabilities"
   ]
  },
  {
   "cell_type": "markdown",
   "metadata": {},
   "source": [
    "Calculate the probability of the word based on the relative frequency of English letters"
   ]
  },
  {
   "cell_type": "markdown",
   "metadata": {},
   "source": [
    "assume uniform distribution and assume the choice of the letters are independen P(A,B) = P(A)*P(B) using chain rule; only unigram is considered as lack of data on bigram, and trigram "
   ]
  },
  {
   "cell_type": "code",
   "execution_count": 17,
   "metadata": {},
   "outputs": [
    {
     "name": "stdout",
     "output_type": "stream",
     "text": [
      "sum of relative frequencies 0.9999899999999999\n"
     ]
    }
   ],
   "source": [
    "print('sum of relative frequencies', np.sum(list(english_letter_freq_dict.values())))"
   ]
  },
  {
   "cell_type": "code",
   "execution_count": 18,
   "metadata": {},
   "outputs": [],
   "source": [
    "name_probs = []\n",
    "name_probs_normalized = []\n",
    "names = []\n",
    "\n",
    "for i, name in enumerate(df['name']):\n",
    "    chars = list(name.replace(' ',''))\n",
    "    prob_name = 0\n",
    "    for char in chars:\n",
    "        prob_name += (english_letter_freq_dict[char])\n",
    "    name_probs_normalized.append(prob_name/df['length'][i])\n",
    "    name_probs.append(prob_name)\n",
    "    names.append(name)"
   ]
  },
  {
   "cell_type": "code",
   "execution_count": 19,
   "metadata": {},
   "outputs": [],
   "source": [
    "df['probability_chars'] = name_probs\n",
    "df['probability_chars_normalized'] = name_probs_normalized"
   ]
  },
  {
   "cell_type": "code",
   "execution_count": 20,
   "metadata": {},
   "outputs": [
    {
     "data": {
      "text/html": [
       "<div>\n",
       "<style scoped>\n",
       "    .dataframe tbody tr th:only-of-type {\n",
       "        vertical-align: middle;\n",
       "    }\n",
       "\n",
       "    .dataframe tbody tr th {\n",
       "        vertical-align: top;\n",
       "    }\n",
       "\n",
       "    .dataframe thead th {\n",
       "        text-align: right;\n",
       "    }\n",
       "</style>\n",
       "<table border=\"1\" class=\"dataframe\">\n",
       "  <thead>\n",
       "    <tr style=\"text-align: right;\">\n",
       "      <th></th>\n",
       "      <th>name</th>\n",
       "      <th>probability_chars</th>\n",
       "      <th>probability_chars_normalized</th>\n",
       "    </tr>\n",
       "  </thead>\n",
       "  <tbody>\n",
       "    <tr>\n",
       "      <th>0</th>\n",
       "      <td>data hawks</td>\n",
       "      <td>0.53363</td>\n",
       "      <td>0.053363</td>\n",
       "    </tr>\n",
       "    <tr>\n",
       "      <th>1</th>\n",
       "      <td>abraca data</td>\n",
       "      <td>0.64405</td>\n",
       "      <td>0.058550</td>\n",
       "    </tr>\n",
       "    <tr>\n",
       "      <th>2</th>\n",
       "      <td>deep thinkers</td>\n",
       "      <td>0.86239</td>\n",
       "      <td>0.066338</td>\n",
       "    </tr>\n",
       "    <tr>\n",
       "      <th>3</th>\n",
       "      <td>data junkies</td>\n",
       "      <td>0.66070</td>\n",
       "      <td>0.055058</td>\n",
       "    </tr>\n",
       "    <tr>\n",
       "      <th>4</th>\n",
       "      <td>data punks</td>\n",
       "      <td>0.48178</td>\n",
       "      <td>0.048178</td>\n",
       "    </tr>\n",
       "  </tbody>\n",
       "</table>\n",
       "</div>"
      ],
      "text/plain": [
       "            name  probability_chars  probability_chars_normalized\n",
       "0     data hawks            0.53363                      0.053363\n",
       "1    abraca data            0.64405                      0.058550\n",
       "2  deep thinkers            0.86239                      0.066338\n",
       "3   data junkies            0.66070                      0.055058\n",
       "4     data punks            0.48178                      0.048178"
      ]
     },
     "execution_count": 20,
     "metadata": {},
     "output_type": "execute_result"
    }
   ],
   "source": [
    "df[['name', 'probability_chars', 'probability_chars_normalized']]"
   ]
  },
  {
   "cell_type": "markdown",
   "metadata": {},
   "source": [
    "# Entropy"
   ]
  },
  {
   "cell_type": "code",
   "execution_count": 21,
   "metadata": {},
   "outputs": [],
   "source": [
    "def calc_shannon_entropy(p):\n",
    "    return -p*np.log(p)"
   ]
  },
  {
   "cell_type": "code",
   "execution_count": 22,
   "metadata": {},
   "outputs": [],
   "source": [
    "def calc_entropy(r,l):\n",
    "    return np.log2(r**l)"
   ]
  },
  {
   "cell_type": "code",
   "execution_count": 23,
   "metadata": {},
   "outputs": [],
   "source": [
    "entropy = []\n",
    "shannon_entropy = []\n",
    "shannon_entropy_normalized = []\n",
    "for i in range(len(df)):\n",
    "    row = df.iloc[i]\n",
    "    entropy.append(calc_entropy(r = row['unique_char'], l =row['length']))\n",
    "    shannon_entropy.append(calc_shannon_entropy(row['probability_chars']))\n",
    "    shannon_entropy_normalized.append(calc_shannon_entropy(row['probability_chars_normalized']))"
   ]
  },
  {
   "cell_type": "code",
   "execution_count": 24,
   "metadata": {},
   "outputs": [],
   "source": [
    "df['entropy'] = entropy\n",
    "df['shannon_entropy'] = shannon_entropy\n",
    "df['shannon_entropy_normalized'] = shannon_entropy_normalized"
   ]
  },
  {
   "cell_type": "code",
   "execution_count": 25,
   "metadata": {},
   "outputs": [
    {
     "data": {
      "text/html": [
       "<div>\n",
       "<style scoped>\n",
       "    .dataframe tbody tr th:only-of-type {\n",
       "        vertical-align: middle;\n",
       "    }\n",
       "\n",
       "    .dataframe tbody tr th {\n",
       "        vertical-align: top;\n",
       "    }\n",
       "\n",
       "    .dataframe thead th {\n",
       "        text-align: right;\n",
       "    }\n",
       "</style>\n",
       "<table border=\"1\" class=\"dataframe\">\n",
       "  <thead>\n",
       "    <tr style=\"text-align: right;\">\n",
       "      <th></th>\n",
       "      <th>name</th>\n",
       "      <th>entropy</th>\n",
       "      <th>shannon_entropy</th>\n",
       "      <th>shannon_entropy_normalized</th>\n",
       "    </tr>\n",
       "  </thead>\n",
       "  <tbody>\n",
       "    <tr>\n",
       "      <th>0</th>\n",
       "      <td>data hawks</td>\n",
       "      <td>28.073549</td>\n",
       "      <td>0.335148</td>\n",
       "      <td>0.156388</td>\n",
       "    </tr>\n",
       "    <tr>\n",
       "      <th>1</th>\n",
       "      <td>abraca data</td>\n",
       "      <td>28.434588</td>\n",
       "      <td>0.283368</td>\n",
       "      <td>0.166158</td>\n",
       "    </tr>\n",
       "    <tr>\n",
       "      <th>2</th>\n",
       "      <td>deep thinkers</td>\n",
       "      <td>43.185065</td>\n",
       "      <td>0.127675</td>\n",
       "      <td>0.179974</td>\n",
       "    </tr>\n",
       "    <tr>\n",
       "      <th>3</th>\n",
       "      <td>data junkies</td>\n",
       "      <td>39.863137</td>\n",
       "      <td>0.273831</td>\n",
       "      <td>0.159634</td>\n",
       "    </tr>\n",
       "    <tr>\n",
       "      <th>4</th>\n",
       "      <td>data punks</td>\n",
       "      <td>30.000000</td>\n",
       "      <td>0.351828</td>\n",
       "      <td>0.146117</td>\n",
       "    </tr>\n",
       "  </tbody>\n",
       "</table>\n",
       "</div>"
      ],
      "text/plain": [
       "            name    entropy  shannon_entropy  shannon_entropy_normalized\n",
       "0     data hawks  28.073549         0.335148                    0.156388\n",
       "1    abraca data  28.434588         0.283368                    0.166158\n",
       "2  deep thinkers  43.185065         0.127675                    0.179974\n",
       "3   data junkies  39.863137         0.273831                    0.159634\n",
       "4     data punks  30.000000         0.351828                    0.146117"
      ]
     },
     "execution_count": 25,
     "metadata": {},
     "output_type": "execute_result"
    }
   ],
   "source": [
    "df[['name', 'entropy', 'shannon_entropy', 'shannon_entropy_normalized']]"
   ]
  },
  {
   "cell_type": "markdown",
   "metadata": {},
   "source": [
    "Entropy measures the randomness of the combination, less entropy better combination "
   ]
  },
  {
   "cell_type": "markdown",
   "metadata": {},
   "source": [
    "----------------------"
   ]
  },
  {
   "cell_type": "code",
   "execution_count": 26,
   "metadata": {},
   "outputs": [
    {
     "data": {
      "text/html": [
       "<div>\n",
       "<style scoped>\n",
       "    .dataframe tbody tr th:only-of-type {\n",
       "        vertical-align: middle;\n",
       "    }\n",
       "\n",
       "    .dataframe tbody tr th {\n",
       "        vertical-align: top;\n",
       "    }\n",
       "\n",
       "    .dataframe thead th {\n",
       "        text-align: right;\n",
       "    }\n",
       "</style>\n",
       "<table border=\"1\" class=\"dataframe\">\n",
       "  <thead>\n",
       "    <tr style=\"text-align: right;\">\n",
       "      <th></th>\n",
       "      <th>name</th>\n",
       "      <th>length</th>\n",
       "      <th>frequency</th>\n",
       "      <th>unique_char</th>\n",
       "      <th>stem_name</th>\n",
       "      <th>probability_chars</th>\n",
       "      <th>probability_chars_normalized</th>\n",
       "      <th>entropy</th>\n",
       "      <th>shannon_entropy</th>\n",
       "      <th>shannon_entropy_normalized</th>\n",
       "    </tr>\n",
       "  </thead>\n",
       "  <tbody>\n",
       "    <tr>\n",
       "      <th>0</th>\n",
       "      <td>data hawks</td>\n",
       "      <td>10</td>\n",
       "      <td>[(a, 3), (d, 1), (t, 1), (h, 1), (w, 1), (k, 1...</td>\n",
       "      <td>7</td>\n",
       "      <td>data hawk</td>\n",
       "      <td>0.53363</td>\n",
       "      <td>0.053363</td>\n",
       "      <td>28.073549</td>\n",
       "      <td>0.335148</td>\n",
       "      <td>0.156388</td>\n",
       "    </tr>\n",
       "    <tr>\n",
       "      <th>1</th>\n",
       "      <td>abraca data</td>\n",
       "      <td>11</td>\n",
       "      <td>[(a, 5), (b, 1), (r, 1), (c, 1), (d, 1), (t, 1)]</td>\n",
       "      <td>6</td>\n",
       "      <td>abraca data</td>\n",
       "      <td>0.64405</td>\n",
       "      <td>0.058550</td>\n",
       "      <td>28.434588</td>\n",
       "      <td>0.283368</td>\n",
       "      <td>0.166158</td>\n",
       "    </tr>\n",
       "    <tr>\n",
       "      <th>2</th>\n",
       "      <td>deep thinkers</td>\n",
       "      <td>13</td>\n",
       "      <td>[(e, 3), (d, 1), (p, 1), (t, 1), (h, 1), (i, 1...</td>\n",
       "      <td>10</td>\n",
       "      <td>deep thinker</td>\n",
       "      <td>0.86239</td>\n",
       "      <td>0.066338</td>\n",
       "      <td>43.185065</td>\n",
       "      <td>0.127675</td>\n",
       "      <td>0.179974</td>\n",
       "    </tr>\n",
       "    <tr>\n",
       "      <th>3</th>\n",
       "      <td>data junkies</td>\n",
       "      <td>12</td>\n",
       "      <td>[(a, 2), (d, 1), (t, 1), (j, 1), (u, 1), (n, 1...</td>\n",
       "      <td>10</td>\n",
       "      <td>data junki</td>\n",
       "      <td>0.66070</td>\n",
       "      <td>0.055058</td>\n",
       "      <td>39.863137</td>\n",
       "      <td>0.273831</td>\n",
       "      <td>0.159634</td>\n",
       "    </tr>\n",
       "    <tr>\n",
       "      <th>4</th>\n",
       "      <td>data punks</td>\n",
       "      <td>10</td>\n",
       "      <td>[(a, 2), (d, 1), (t, 1), (p, 1), (u, 1), (n, 1...</td>\n",
       "      <td>8</td>\n",
       "      <td>data punk</td>\n",
       "      <td>0.48178</td>\n",
       "      <td>0.048178</td>\n",
       "      <td>30.000000</td>\n",
       "      <td>0.351828</td>\n",
       "      <td>0.146117</td>\n",
       "    </tr>\n",
       "  </tbody>\n",
       "</table>\n",
       "</div>"
      ],
      "text/plain": [
       "            name  length                                          frequency  \\\n",
       "0     data hawks      10  [(a, 3), (d, 1), (t, 1), (h, 1), (w, 1), (k, 1...   \n",
       "1    abraca data      11   [(a, 5), (b, 1), (r, 1), (c, 1), (d, 1), (t, 1)]   \n",
       "2  deep thinkers      13  [(e, 3), (d, 1), (p, 1), (t, 1), (h, 1), (i, 1...   \n",
       "3   data junkies      12  [(a, 2), (d, 1), (t, 1), (j, 1), (u, 1), (n, 1...   \n",
       "4     data punks      10  [(a, 2), (d, 1), (t, 1), (p, 1), (u, 1), (n, 1...   \n",
       "\n",
       "   unique_char     stem_name  probability_chars  probability_chars_normalized  \\\n",
       "0            7     data hawk            0.53363                      0.053363   \n",
       "1            6   abraca data            0.64405                      0.058550   \n",
       "2           10  deep thinker            0.86239                      0.066338   \n",
       "3           10    data junki            0.66070                      0.055058   \n",
       "4            8     data punk            0.48178                      0.048178   \n",
       "\n",
       "     entropy  shannon_entropy  shannon_entropy_normalized  \n",
       "0  28.073549         0.335148                    0.156388  \n",
       "1  28.434588         0.283368                    0.166158  \n",
       "2  43.185065         0.127675                    0.179974  \n",
       "3  39.863137         0.273831                    0.159634  \n",
       "4  30.000000         0.351828                    0.146117  "
      ]
     },
     "execution_count": 26,
     "metadata": {},
     "output_type": "execute_result"
    }
   ],
   "source": [
    "df"
   ]
  }
 ],
 "metadata": {
  "kernelspec": {
   "display_name": "Python 3",
   "language": "python",
   "name": "python3"
  },
  "language_info": {
   "codemirror_mode": {
    "name": "ipython",
    "version": 3
   },
   "file_extension": ".py",
   "mimetype": "text/x-python",
   "name": "python",
   "nbconvert_exporter": "python",
   "pygments_lexer": "ipython3",
   "version": "3.7.0"
  }
 },
 "nbformat": 4,
 "nbformat_minor": 2
}
